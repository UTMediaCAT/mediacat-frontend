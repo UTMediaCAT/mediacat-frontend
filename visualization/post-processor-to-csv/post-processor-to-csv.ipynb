{
 "cells": [
  {
   "cell_type": "code",
   "execution_count": 3,
   "metadata": {},
   "outputs": [],
   "source": [
    "import ijson\n",
    "from datetime import date"
   ]
  },
  {
   "cell_type": "code",
   "execution_count": 4,
   "metadata": {},
   "outputs": [
    {
     "name": "stdout",
     "output_type": "stream",
     "text": [
      "Column id,url or alias text,referring record id,number of referrals,type,associated publisher,tags,name/title,language,authors,date of publication,plain text,image reference,anchor text,\n",
      "Sent e7e87778-ba90-5bcd-9de5-c2e1281e9486\n",
      "Sent 0634a0d0-4582-552d-8ae5-8217cb341ff8\n",
      "Sent c8269cb2-2000-5e1d-b614-5d552cb0bab1\n",
      "Sent 2e1bb938-0631-586a-8d35-cbdc6bc76c82\n",
      "Sent 10ef8870-5105-59f0-960b-aca25b9380f8\n",
      "Sent 6303c567-b9a1-53df-94ce-d3ea99ae2b31\n",
      "Sent 4e253c71-cb16-5bff-9921-63888b6ed6e2\n",
      "Sent e23a2832-d0ea-58bb-bf7b-4c83f1dfabfd\n",
      "Sent 86f179f3-bc6c-52da-a096-e9a5dfe0d4af\n",
      "Sent 152f6c49-fe3e-5897-8560-ac98d667314f\n",
      "Sent 32e127d2-9651-57bd-8477-61faadda20e5\n",
      "Sent 4041a3fc-5e79-563b-985f-952ae0257f9d\n",
      "Sent 65c906a9-67d2-5161-acd8-ac4455743a33\n",
      "Sent 11a496aa-8d87-5c2b-bc8c-66e54b6de7e3\n",
      "Sent e27e7998-66e7-5dc9-99ad-22eb039f1bac\n",
      "Sent 5e32d1b4-078a-5a83-9319-bd9126401e87\n",
      "Sent b0c76c56-4e2a-5996-a2d6-5c554a1a17ba\n",
      "Sent 2497342e-c6da-5f9f-81e7-ac68a0773385\n",
      "Sent e795e443-febc-50d0-a5d9-c0db3957474d\n",
      "Sent 39676ac5-4db8-5ec7-9ce2-371726718288\n",
      "DONE! check csvOutput/output_24-10-2021.csv\n"
     ]
    }
   ],
   "source": [
    "with open(\"jsonOutput/output.json\", \"r\") as output:\n",
    "    parser = ijson.parse(output)\n",
    "    current = \"\"\n",
    "    columns = \"\"\n",
    "    column_set = False\n",
    "    curr_col = \"\"\n",
    "    multi_columns = []\n",
    "    entry_id=\"\"\n",
    "    # output_dd_mm_yyyy.csv\n",
    "    today = date.today()\n",
    "    date_string = today.strftime(\"%d-%m-%Y\")\n",
    "    output_file_name = 'csvOutput/output_'+date_string+'.csv'\n",
    "    with open(output_file_name,'w', encoding=\"utf-8\") as file:\n",
    "        for prefix, event, value in parser:\n",
    "            # Adds columns\n",
    "            if event == \"map_key\":\n",
    "                if prefix == \"\":\n",
    "                    entry_id = value\n",
    "                else:\n",
    "                    curr_col = value\n",
    "                    if not column_set:\n",
    "                        columns+=curr_col+\",\"\n",
    "            if prefix == entry_id+\".\"+curr_col:\n",
    "                # Parses [, means there will be an array, so an empty string is created\n",
    "                if event == \"start_array\":\n",
    "                    multi_columns.append(\"\")\n",
    "                # Parses ], means the array is done, so the last element of the list\n",
    "                # is added to current row\n",
    "                elif event == \"end_array\":\n",
    "                    current+=multi_columns[-1]+\",\"\n",
    "                else:\n",
    "                    if not value:\n",
    "                        current +=\"null,\"\n",
    "                    elif type(value) == int:\n",
    "                        current +=str(value)+\",\"\n",
    "                    else:\n",
    "                        # Replaces commas to not mess up the csv structure\n",
    "                        current+=value.replace(\",\",\"\")+\",\"\n",
    "            # This means it's an item of a list, so we add it to the last element of the list\n",
    "            elif prefix == entry_id+\".\"+curr_col+\".item\":\n",
    "                multi_columns[-1]+=value+\" \"\n",
    "            # Marks the end of the element\n",
    "            elif entry_id != \"\" and prefix == entry_id and event == \"end_map\":\n",
    "                if not column_set:\n",
    "                    file.write(columns+\"\\n\")\n",
    "                    print(\"Column \"+columns)\n",
    "                    column_set = True\n",
    "                file.write(current+\"\\n\")\n",
    "                print(\"Sent \"+entry_id)\n",
    "                current = \"\"\n",
    "                curr_col = \"\"\n",
    "                multi_columns = []\n",
    "                entry_id = \"\"\n",
    "        #print('prefix={}, event={}, value={}'.format(prefix, event, value))\n",
    "    print(\"DONE! check \"+output_file_name)"
   ]
  },
  {
   "cell_type": "code",
   "execution_count": null,
   "metadata": {},
   "outputs": [],
   "source": []
  },
  {
   "cell_type": "code",
   "execution_count": null,
   "metadata": {},
   "outputs": [],
   "source": []
  }
 ],
 "metadata": {
  "interpreter": {
   "hash": "e534e48711db4d1e1c48977d0d14ff85b1f16d41bcc4fdfd88268a329b3c9d66"
  },
  "kernelspec": {
   "display_name": "Python 3.7.4 64-bit",
   "name": "python3"
  },
  "language_info": {
   "codemirror_mode": {
    "name": "ipython",
    "version": 3
   },
   "file_extension": ".py",
   "mimetype": "text/x-python",
   "name": "python",
   "nbconvert_exporter": "python",
   "pygments_lexer": "ipython3",
   "version": "3.7.4"
  }
 },
 "nbformat": 4,
 "nbformat_minor": 4
}

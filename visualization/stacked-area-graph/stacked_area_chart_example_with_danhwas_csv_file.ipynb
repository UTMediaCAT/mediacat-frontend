{
 "cells": [
  {
   "cell_type": "code",
   "execution_count": 1,
   "metadata": {},
   "outputs": [],
   "source": [
    "import csv\n",
    "import pandas as pd\n",
    "import matplotlib.pyplot as plt"
   ]
  },
  {
   "cell_type": "code",
   "execution_count": 2,
   "metadata": {},
   "outputs": [],
   "source": [
    "with open('AliAbunimah_Times of Israel.csv', encoding='utf-8', newline='') as f:\n",
    "    reader = csv.reader((line.replace('\\0', '') for line in f))\n",
    "    times_of_israel = list(reader)\n",
    "    \n",
    "with open('AliAbunimah_Haaretz.csv', encoding='utf-8', newline='') as f:\n",
    "    reader = csv.reader((line.replace('\\0', '') for line in f))\n",
    "    haaretz = list(reader)\n",
    "    \n",
    "with open('AliAbunimah_Jerusalem.csv', encoding='utf-8', newline='') as f:\n",
    "    reader = csv.reader((line.replace('\\0', '') for line in f))\n",
    "    jerusalem = list(reader)"
   ]
  },
  {
   "cell_type": "code",
   "execution_count": 3,
   "metadata": {},
   "outputs": [],
   "source": [
    "haaretz.pop(0)\n",
    "haaretz_year = {}\n",
    "\n",
    "for row in haaretz:\n",
    "    if row[3][:4] not in haaretz_year:\n",
    "        haaretz_year[row[3][:4]] = 1\n",
    "    else:\n",
    "        haaretz_year[row[3][:4]] += 1"
   ]
  },
  {
   "cell_type": "code",
   "execution_count": 4,
   "metadata": {},
   "outputs": [],
   "source": [
    "jerusalem.pop(0)\n",
    "jerusalem_year = {}\n",
    "\n",
    "for row in jerusalem:\n",
    "    if row[3][:4] not in jerusalem_year:\n",
    "        jerusalem_year[row[3][:4]] = 1\n",
    "    else:\n",
    "        jerusalem_year[row[3][:4]] += 1"
   ]
  },
  {
   "cell_type": "code",
   "execution_count": 5,
   "metadata": {},
   "outputs": [],
   "source": [
    "times_of_israel.pop(0)\n",
    "times_of_israel_year = {}\n",
    "\n",
    "for row in times_of_israel:\n",
    "    if row[3][:4] not in times_of_israel_year:\n",
    "        times_of_israel_year[row[3][:4]] = 1\n",
    "    else:\n",
    "        times_of_israel_year[row[3][:4]] += 1"
   ]
  },
  {
   "cell_type": "code",
   "execution_count": 6,
   "metadata": {},
   "outputs": [],
   "source": [
    "data = []\n",
    "\n",
    "for i in jerusalem_year:\n",
    "    je = jerusalem_year[i]\n",
    "    if i in times_of_israel_year:\n",
    "        ti = times_of_israel_year[i]\n",
    "    else:\n",
    "        ti = 0\n",
    "    if i in haaretz_year:\n",
    "        ha = haaretz_year[i]\n",
    "    else:\n",
    "        ha = 0\n",
    "    \n",
    "    data.append([je, ti, ha])"
   ]
  },
  {
   "cell_type": "code",
   "execution_count": 7,
   "metadata": {},
   "outputs": [],
   "source": [
    "date = []\n",
    "\n",
    "for i in jerusalem_year:\n",
    "    date.append(i)"
   ]
  },
  {
   "cell_type": "code",
   "execution_count": 8,
   "metadata": {},
   "outputs": [],
   "source": [
    "df = pd.DataFrame(data, index=date, columns =['Jerusalem', 'Times of Israel', \"Haaretz\"]) "
   ]
  },
  {
   "cell_type": "code",
   "execution_count": 9,
   "metadata": {},
   "outputs": [],
   "source": [
    "df = df.sort_index()"
   ]
  },
  {
   "cell_type": "code",
   "execution_count": 10,
   "metadata": {},
   "outputs": [
    {
     "data": {
      "text/html": [
       "<div>\n",
       "<style scoped>\n",
       "    .dataframe tbody tr th:only-of-type {\n",
       "        vertical-align: middle;\n",
       "    }\n",
       "\n",
       "    .dataframe tbody tr th {\n",
       "        vertical-align: top;\n",
       "    }\n",
       "\n",
       "    .dataframe thead th {\n",
       "        text-align: right;\n",
       "    }\n",
       "</style>\n",
       "<table border=\"1\" class=\"dataframe\">\n",
       "  <thead>\n",
       "    <tr style=\"text-align: right;\">\n",
       "      <th></th>\n",
       "      <th>Jerusalem</th>\n",
       "      <th>Times of Israel</th>\n",
       "      <th>Haaretz</th>\n",
       "    </tr>\n",
       "  </thead>\n",
       "  <tbody>\n",
       "    <tr>\n",
       "      <td>2008</td>\n",
       "      <td>1</td>\n",
       "      <td>0</td>\n",
       "      <td>2</td>\n",
       "    </tr>\n",
       "    <tr>\n",
       "      <td>2009</td>\n",
       "      <td>56</td>\n",
       "      <td>0</td>\n",
       "      <td>42</td>\n",
       "    </tr>\n",
       "    <tr>\n",
       "      <td>2010</td>\n",
       "      <td>288</td>\n",
       "      <td>0</td>\n",
       "      <td>86</td>\n",
       "    </tr>\n",
       "    <tr>\n",
       "      <td>2011</td>\n",
       "      <td>173</td>\n",
       "      <td>0</td>\n",
       "      <td>99</td>\n",
       "    </tr>\n",
       "    <tr>\n",
       "      <td>2012</td>\n",
       "      <td>178</td>\n",
       "      <td>10</td>\n",
       "      <td>97</td>\n",
       "    </tr>\n",
       "    <tr>\n",
       "      <td>2013</td>\n",
       "      <td>185</td>\n",
       "      <td>5</td>\n",
       "      <td>32</td>\n",
       "    </tr>\n",
       "    <tr>\n",
       "      <td>2014</td>\n",
       "      <td>294</td>\n",
       "      <td>23</td>\n",
       "      <td>35</td>\n",
       "    </tr>\n",
       "    <tr>\n",
       "      <td>2015</td>\n",
       "      <td>258</td>\n",
       "      <td>12</td>\n",
       "      <td>37</td>\n",
       "    </tr>\n",
       "    <tr>\n",
       "      <td>2016</td>\n",
       "      <td>82</td>\n",
       "      <td>1</td>\n",
       "      <td>24</td>\n",
       "    </tr>\n",
       "    <tr>\n",
       "      <td>2017</td>\n",
       "      <td>144</td>\n",
       "      <td>2</td>\n",
       "      <td>18</td>\n",
       "    </tr>\n",
       "    <tr>\n",
       "      <td>2018</td>\n",
       "      <td>44</td>\n",
       "      <td>5</td>\n",
       "      <td>18</td>\n",
       "    </tr>\n",
       "    <tr>\n",
       "      <td>2019</td>\n",
       "      <td>28</td>\n",
       "      <td>6</td>\n",
       "      <td>5</td>\n",
       "    </tr>\n",
       "    <tr>\n",
       "      <td>2020</td>\n",
       "      <td>27</td>\n",
       "      <td>4</td>\n",
       "      <td>7</td>\n",
       "    </tr>\n",
       "  </tbody>\n",
       "</table>\n",
       "</div>"
      ],
      "text/plain": [
       "      Jerusalem  Times of Israel  Haaretz\n",
       "2008          1                0        2\n",
       "2009         56                0       42\n",
       "2010        288                0       86\n",
       "2011        173                0       99\n",
       "2012        178               10       97\n",
       "2013        185                5       32\n",
       "2014        294               23       35\n",
       "2015        258               12       37\n",
       "2016         82                1       24\n",
       "2017        144                2       18\n",
       "2018         44                5       18\n",
       "2019         28                6        5\n",
       "2020         27                4        7"
      ]
     },
     "execution_count": 10,
     "metadata": {},
     "output_type": "execute_result"
    }
   ],
   "source": [
    "df"
   ]
  },
  {
   "cell_type": "code",
   "execution_count": 11,
   "metadata": {},
   "outputs": [
    {
     "data": {
      "image/png": "[encoded data removed]",
      "text/plain": [
       "<Figure size 432x288 with 1 Axes>"
      ]
     },
     "metadata": {
      "needs_background": "light"
     },
     "output_type": "display_data"
    }
   ],
   "source": [
    "plt.stackplot(df.index,\n",
    "              [df['Times of Israel'], df['Haaretz'], df['Jerusalem'],],\n",
    "              labels=['Times of Israel', 'Haaretz', 'Jerusalem'],\n",
    "              alpha=0.8)\n",
    "\n",
    "plt.legend(loc=2, fontsize='large')\n",
    "plt.title(\"Tweets by @AliAbunimah that mentions Israeli news sources\")\n",
    "plt.ylabel(\"Number of Tweets\")\n",
    "plt.xlabel(\"Year\")\n",
    "plt.show()"
   ]
  }
 ],
 "metadata": {
  "kernelspec": {
   "display_name": "Python 3",
   "language": "python",
   "name": "python3"
  },
  "language_info": {
   "codemirror_mode": {
    "name": "ipython",
    "version": 3
   },
   "file_extension": ".py",
   "mimetype": "text/x-python",
   "name": "python",
   "nbconvert_exporter": "python",
   "pygments_lexer": "ipython3",
   "version": "3.7.4"
  }
 },
 "nbformat": 4,
 "nbformat_minor": 2
}

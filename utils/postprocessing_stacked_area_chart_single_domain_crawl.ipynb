{
 "cells": [
  {
   "cell_type": "markdown",
   "metadata": {},
   "source": [
    "#### This code draws a stacked area graph based on the data from a single domain crawl before postprocessing. Only hyperlinks to URLs (articles/domains) are counted. To count text aliases, the part for processing text aliases could be imported from the postprocessor for a full crawl that Amy wrote."
   ]
  },
  {
   "cell_type": "code",
   "execution_count": 1,
   "metadata": {},
   "outputs": [],
   "source": [
    "import pandas as pd\n",
    "import matplotlib.pyplot as plt\n",
    "import os\n",
    "import json"
   ]
  },
  {
   "cell_type": "markdown",
   "metadata": {},
   "source": [
    "#### Below is what a .json file from the domain crawler, an actual sample data, looks like:"
   ]
  },
  {
   "cell_type": "code",
   "execution_count": 2,
   "metadata": {},
   "outputs": [
    {
     "data": {
      "text/plain": [
       "{'title': 'White House Covid-19 Team Makes Remarks on Vaccine SupplyWhite House Covid-19 Team Makes Remarks on Vaccine Supply',\n",
       " 'url': 'https://www.nytimes.com/video/us/politics/100000007647327/new-jersey-indoor-dining-capacity-fifty-percent.html',\n",
       " 'author_metadata': None,\n",
       " 'date': '',\n",
       " 'html_content': '<div id=\"readability-page-1\" class=\"page\"><div id=\"site-content\"><div><p aria-live=\"assertive\">new video loaded: <!-- -->White House Covid-19 Team Makes Remarks on Vaccine Supply</p><div><div><div><div aria-labelledby=\"modal-title\" role=\"region\"><header><p>transcript</p></header><div><div><p>transcript</p><h2>White House Covid-19 Team Makes Remarks on Vaccine Supply</h2><h4>Members of the White House coronavirus team discussed the need for more vaccine supply on Wednesday.</h4></div><dl><dt></dt><dd><p>“Today, President Biden will direct Jeff and the Health and Human Services team to procure an additional 100 million doses of the Johnson &amp;amp; Johnson vaccine. This order allows for the president to plan for the future in the latter part of the year. This is wartime, and as facts still emerge, it gives us maximum flexibility for our upcoming needs.” “We are at a critical point in this pandemic, and on the cusp of having enough vaccine to protect every adult in the United States. We ask for your patience in practicing proven prevention measures for just a little while longer. We ask for your participation by rolling up your sleeve when it is your turn to be vaccinated. And we ask for your leadership in helping others do both of the same. With the above actions, we are so very close. We can turn the tide on this pandemic.”</p></dd></dl></div></div></div></div></div><div><div id=\"U.S.-&amp;-Politics\"><p>Recent episodes in</p><!-- --> <p><span>U.S. &amp; Politics</span></p></div></div></div></div></div>',\n",
       " 'article_text': 'new video loaded: White House Covid-19 Team Makes Remarks on Vaccine SupplytranscripttranscriptWhite House Covid-19 Team Makes Remarks on Vaccine SupplyMembers of the White House coronavirus team discussed the need for more vaccine supply on Wednesday.“Today, President Biden will direct Jeff and the Health and Human Services team to procure an additional 100 million doses of the Johnson &amp; Johnson vaccine. This order allows for the president to plan for the future in the latter part of the year. This is wartime, and as facts still emerge, it gives us maximum flexibility for our upcoming needs.” “We are at a critical point in this pandemic, and on the cusp of having enough vaccine to protect every adult in the United States. We ask for your patience in practicing proven prevention measures for just a little while longer. We ask for your participation by rolling up your sleeve when it is your turn to be vaccinated. And we ask for your leadership in helping others do both of the same. With the above actions, we are so very close. We can turn the tide on this pandemic.”Recent episodes in U.S. & Politics',\n",
       " 'article_len': 1119,\n",
       " 'domain': 'http://www.nytimes.com/',\n",
       " 'found_urls': [{'title': 'Skip to content',\n",
       "   'url': 'https://www.nytimes.com/video/us/politics/100000007647327/new-jersey-indoor-dining-capacity-fifty-percent.html#site-content'},\n",
       "  {'title': 'Skip to site index',\n",
       "   'url': 'https://www.nytimes.com/video/us/politics/100000007647327/new-jersey-indoor-dining-capacity-fifty-percent.html#site-index'},\n",
       "  {'title': '', 'url': 'https://www.nytimes.com/ca/'},\n",
       "  {'title': 'Log in',\n",
       "   'url': 'https://myaccount.nytimes.com/auth/login?response_type=cookie&client_id=vi'},\n",
       "  {'title': 'Times Video', 'url': 'https://www.nytimes.com/video'},\n",
       "  {'title': ' New Jersey Increases Indoor Capacity Limits to 50 Percent ',\n",
       "   'url': 'https://www.nytimes.com/video/us/politics/100000007647327/new-jersey-indoor-dining-capacity-fifty-percent.html?action=click&gtype=vhs&version=vhs-heading&module=vhs&region=title-area'},\n",
       "  {'title': '',\n",
       "   'url': 'https://twitter.com/intent/tweet?url=https%3A%2F%2Fwww.nytimes.com%2Fvideo%2Fus%2Fpolitics%2F100000007647327%2Fnew-jersey-indoor-dining-capacity-fifty-percent.html%3Fsmid%3Dtw-share&text=New%20Jersey%20Increases%20Indoor%20Capacity%20Limits%20to%2050%20Percent'},\n",
       "  {'title': '1:34Biden Orders 100 Million More Johnson & Johnson Vaccine Doses',\n",
       "   'url': 'https://www.nytimes.com/video/us/politics/100000007647639/biden-johnson-johnson-vaccine.html?action=click&module=video-series-bar&region=header&pgtype=Article&playlistId=video/us-politics'},\n",
       "  {'title': '0:59White House Covid-19 Team Makes Remarks on Vaccine Supply',\n",
       "   'url': 'https://www.nytimes.com/video/us/politics/100000007647172/johnson-and-johnson-vaccine-100-million-doses.html?action=click&module=video-series-bar&region=header&pgtype=Article&playlistId=video/us-politics'},\n",
       "  {'title': '0:41Alaska Extends Vaccine Eligibility to Anyone 16 and Older',\n",
       "   'url': 'https://www.nytimes.com/video/us/politics/100000007646461/alaska-vaccine-eligibility-sixteen-years-old.html?action=click&module=video-series-bar&region=header&pgtype=Article&playlistId=video/us-politics'},\n",
       "  {'title': '0:56Biden Tours Hardware Store to Promote Small Business Loans',\n",
       "   'url': 'https://www.nytimes.com/video/us/politics/100000007645190/biden-hardware-store-visit-ppp-loans.html?action=click&module=video-series-bar&region=header&pgtype=Article&playlistId=video/us-politics'},\n",
       "  {'title': '0:43White House ‘Aware’ of Russian Vaccine Disinformation Efforts',\n",
       "   'url': 'https://www.nytimes.com/video/us/politics/100000007645147/white-house-russia-disinformation-moderna-pfizer.html?action=click&module=video-series-bar&region=header&pgtype=Article&playlistId=video/us-politics'},\n",
       "  {'title': '1:09Jury Selection Begins After Initial Delay in Chauvin Trial',\n",
       "   'url': 'https://www.nytimes.com/video/us/politics/100000007645055/chauvin-jury-selection-george-floyd.html?action=click&module=video-series-bar&region=header&pgtype=Article&playlistId=video/us-politics'},\n",
       "  {'title': '1:08Cuomo Lowers Age Threshold for Vaccine Eligibility to 60',\n",
       "   'url': 'https://www.nytimes.com/video/us/politics/100000007644827/cuomo-vaccine-eligibility-sixty-years-old.html?action=click&module=video-series-bar&region=header&pgtype=Article&playlistId=video/us-politics'},\n",
       "  {'title': '1:35‘There’s a Lot of Anxiety’: Crowds Gather Outside Derek Chauvin Trial',\n",
       "   'url': 'https://www.nytimes.com/video/us/100000007642371/george-floyd-derek-chauvin-trial.html?action=click&module=video-series-bar&region=header&pgtype=Article&playlistId=video/us-politics'},\n",
       "  {'title': '1:33Biden Elevates Two Female Generals on International Women’s Day',\n",
       "   'url': 'https://www.nytimes.com/video/us/politics/100000007643604/biden-nominates-female-generals.html?action=click&module=video-series-bar&region=header&pgtype=Article&playlistId=video/us-politics'},\n",
       "  {'title': '1:16N.Y.C. to Commemorate One Year Since First Covid-19 Death',\n",
       "   'url': 'https://www.nytimes.com/video/us/politics/100000007643310/nyc-covid-memorial-event.html?action=click&module=video-series-bar&region=header&pgtype=Article&playlistId=video/us-politics'},\n",
       "  {'title': '1:01New York City High Schools to Reopen March 22',\n",
       "   'url': 'https://www.nytimes.com/video/us/politics/100000007643008/nyc-high-school-re-opening.html?action=click&module=video-series-bar&region=header&pgtype=Article&playlistId=video/us-politics'},\n",
       "  {'title': '1:04Disagreement Before Chauvin Trial Delays the Start of Jury Selection',\n",
       "   'url': 'https://www.nytimes.com/video/us/politics/100000007642806/jury-selection-derek-chauvin-trial.html?action=click&module=video-series-bar&region=header&pgtype=Article&playlistId=video/us-politics'},\n",
       "  {'title': '0:34Protests in Minneapolis Ahead of Jury Selection in Chauvin Trial',\n",
       "   'url': 'https://www.nytimes.com/video/us/politics/100000007642675/protests-minneapolis-derek-chauvin-trial.html?action=click&module=video-series-bar&region=header&pgtype=Article&playlistId=video/us-politics'},\n",
       "  {'title': '1:30Biden Signs Executive Order to Make Voting Easier',\n",
       "   'url': 'https://www.nytimes.com/video/us/politics/100000007641463/biden-voting-executive-order-bloody-sunday.html?action=click&module=video-series-bar&region=header&pgtype=Article&playlistId=video/us-politics'},\n",
       "  {'title': '1:54Biden Says Stimulus Plan Will ‘Meet the Most Urgent Needs of the Nation’',\n",
       "   'url': 'https://www.nytimes.com/video/us/politics/100000007640602/biden-stimulus-plan.html?action=click&module=video-series-bar&region=header&pgtype=Article&playlistId=video/us-politics'},\n",
       "  {'title': '2:01Senate Narrowly Passes Biden’s Pandemic Relief Plan',\n",
       "   'url': 'https://www.nytimes.com/video/us/politics/100000007640563/senate-passes-coronavirus-relief-bill.html?action=click&module=video-series-bar&region=header&pgtype=Article&playlistId=video/us-politics'},\n",
       "  {'title': '1:35Job Growth Will Slow Without a Stimulus Plan, Biden Says',\n",
       "   'url': 'https://www.nytimes.com/video/us/politics/100000007639511/biden-jobs-report.html?action=click&module=video-series-bar&region=header&pgtype=Article&playlistId=video/us-politics'},\n",
       "  {'title': '0:50C.D.C. Warns Against Repealing Virus Restrictions',\n",
       "   'url': 'https://www.nytimes.com/video/us/politics/100000007639412/cdc-indoor-dining-mask-mandates.html?action=click&module=video-series-bar&region=header&pgtype=Article&playlistId=video/us-politics'},\n",
       "  {'title': '1:05D.C. Mayor Urges Residents to Remain Vigilant After Capitol Attack',\n",
       "   'url': 'https://www.nytimes.com/video/us/politics/100000007637095/washington-dc-security-capitol-attack.html?action=click&module=video-series-bar&region=header&pgtype=Article&playlistId=video/us-politics'},\n",
       "  {'title': '1:13Biden’s ‘Neanderthal’ Remark Reflects His ‘Frustration,’ Psaki Says',\n",
       "   'url': 'https://www.nytimes.com/video/us/politics/100000007636764/white-house-psaki-biden-neanderthal-comment.html?action=click&module=video-series-bar&region=header&pgtype=Article&playlistId=video/us-politics'},\n",
       "  {'title': '1:25Federal Reserve Chair Delivers Cautious Economic Analysis',\n",
       "   'url': 'https://www.nytimes.com/video/us/politics/100000007636734/jerome-powell-federal-reseve-pandemic-unemployment.html?action=click&module=video-series-bar&region=header&pgtype=Article&playlistId=video/us-politics'},\n",
       "  {'title': '1:19Alabama Governor Extends Statewide Mask Order Until April',\n",
       "   'url': 'https://www.nytimes.com/video/us/politics/100000007636576/alabama-governor-ivey-extends-mask-order.html?action=click&module=video-series-bar&region=header&pgtype=Article&playlistId=video/us-politics'},\n",
       "  {'title': '1:55House Passes Sweeping Police Reform Bill Named for George Floyd',\n",
       "   'url': 'https://www.nytimes.com/video/us/politics/100000007636213/george-floyd-policing-bill.html?action=click&module=video-series-bar&region=header&pgtype=Article&playlistId=video/us-politics'},\n",
       "  {'title': '1:34Biden Orders 100 Million More Johnson & Johnson Vaccine Doses',\n",
       "   'url': 'https://www.nytimes.com/video/us/politics/100000007647639/biden-johnson-johnson-vaccine.html?playlistId=video/us-politics'},\n",
       "  {'title': 'NOW PLAYINGNew Jersey Increases Indoor Capacity Limits to 50 Percent',\n",
       "   'url': 'https://www.nytimes.com/video/us/politics/100000007647327/new-jersey-indoor-dining-capacity-fifty-percent.html?playlistId=video/us-politics'},\n",
       "  {'title': '0:59White House Covid-19 Team Makes Remarks on Vaccine Supply',\n",
       "   'url': 'https://www.nytimes.com/video/us/politics/100000007647172/johnson-and-johnson-vaccine-100-million-doses.html?playlistId=video/us-politics'},\n",
       "  {'title': '0:41Alaska Extends Vaccine Eligibility to Anyone 16 and Older',\n",
       "   'url': 'https://www.nytimes.com/video/us/politics/100000007646461/alaska-vaccine-eligibility-sixteen-years-old.html?playlistId=video/us-politics'},\n",
       "  {'title': '0:56Biden Tours Hardware Store to Promote Small Business Loans',\n",
       "   'url': 'https://www.nytimes.com/video/us/politics/100000007645190/biden-hardware-store-visit-ppp-loans.html?playlistId=video/us-politics'},\n",
       "  {'title': '0:43White House ‘Aware’ of Russian Vaccine Disinformation Efforts',\n",
       "   'url': 'https://www.nytimes.com/video/us/politics/100000007645147/white-house-russia-disinformation-moderna-pfizer.html?playlistId=video/us-politics'},\n",
       "  {'title': '1:09Jury Selection Begins After Initial Delay in Chauvin Trial',\n",
       "   'url': 'https://www.nytimes.com/video/us/politics/100000007645055/chauvin-jury-selection-george-floyd.html?playlistId=video/us-politics'},\n",
       "  {'title': '1:08Cuomo Lowers Age Threshold for Vaccine Eligibility to 60',\n",
       "   'url': 'https://www.nytimes.com/video/us/politics/100000007644827/cuomo-vaccine-eligibility-sixty-years-old.html?playlistId=video/us-politics'},\n",
       "  {'title': '1:35‘There’s a Lot of Anxiety’: Crowds Gather Outside Derek Chauvin Trial',\n",
       "   'url': 'https://www.nytimes.com/video/us/100000007642371/george-floyd-derek-chauvin-trial.html?playlistId=video/us-politics'},\n",
       "  {'title': '1:33Biden Elevates Two Female Generals on International Women’s Day',\n",
       "   'url': 'https://www.nytimes.com/video/us/politics/100000007643604/biden-nominates-female-generals.html?playlistId=video/us-politics'},\n",
       "  {'title': '1:16N.Y.C. to Commemorate One Year Since First Covid-19 Death',\n",
       "   'url': 'https://www.nytimes.com/video/us/politics/100000007643310/nyc-covid-memorial-event.html?playlistId=video/us-politics'},\n",
       "  {'title': '1:01New York City High Schools to Reopen March 22',\n",
       "   'url': 'https://www.nytimes.com/video/us/politics/100000007643008/nyc-high-school-re-opening.html?playlistId=video/us-politics'},\n",
       "  {'title': '', 'url': 'https://twitter.com/nytvideo'},\n",
       "  {'title': 'Latest Video',\n",
       "   'url': 'https://www.nytimes.com/video/latest-video'},\n",
       "  {'title': 'Hong Kong Protests',\n",
       "   'url': 'https://www.nytimes.com/video/hk-protest'},\n",
       "  {'title': '2020 Elections',\n",
       "   'url': 'https://www.nytimes.com/video/2020-Elections'},\n",
       "  {'title': 'Most-Viewed', 'url': 'https://www.nytimes.com/video/Most-Viewed'},\n",
       "  {'title': 'Visual Investigations',\n",
       "   'url': 'https://www.nytimes.com/video/investigations'},\n",
       "  {'title': 'The Dispatch',\n",
       "   'url': 'https://www.nytimes.com/video/on-the-ground'},\n",
       "  {'title': 'Diary of a Song',\n",
       "   'url': 'https://www.nytimes.com/video/diaryofasong'},\n",
       "  {'title': 'How We Got Here',\n",
       "   'url': 'https://www.nytimes.com/video/how-we-got-here'},\n",
       "  {'title': 'Magazine', 'url': 'https://www.nytimes.com/video/magazine'},\n",
       "  {'title': 'T Magazine', 'url': 'https://www.nytimes.com/video/t-magazine'},\n",
       "  {'title': 'Op-Docs', 'url': 'https://www.nytimes.com/video/op-docs'},\n",
       "  {'title': 'Opinion', 'url': 'https://www.nytimes.com/video/opinion'},\n",
       "  {'title': 'Continue reading the main story',\n",
       "   'url': 'https://www.nytimes.com/video/us/politics/100000007647327/new-jersey-indoor-dining-capacity-fifty-percent.html#after-bottom'},\n",
       "  {'title': '©\\xa02021\\xa0The New York Times Company',\n",
       "   'url': 'https://help.nytimes.com/hc/en-us/articles/115014792127-Copyright-notice'},\n",
       "  {'title': 'Contact Us',\n",
       "   'url': 'https://help.nytimes.com/hc/en-us/articles/115015385887-Contact-Us'},\n",
       "  {'title': 'Accessibility',\n",
       "   'url': 'https://help.nytimes.com/hc/en-us/articles/115015727108-Accessibility'},\n",
       "  {'title': 'Your Ad Choices',\n",
       "   'url': 'https://www.nytimes.com/privacy/cookie-policy#how-do-i-manage-trackers'},\n",
       "  {'title': 'Privacy Policy',\n",
       "   'url': 'https://www.nytimes.com/privacy/privacy-policy'},\n",
       "  {'title': 'Terms of Service',\n",
       "   'url': 'https://help.nytimes.com/hc/en-us/articles/115014893428-Terms-of-service'},\n",
       "  {'title': 'Terms of Sale',\n",
       "   'url': 'https://help.nytimes.com/hc/en-us/articles/115014893968-Terms-of-sale'},\n",
       "  {'title': 'Site Map', 'url': 'https://www.nytimes.com/sitemap/'},\n",
       "  {'title': 'Canada',\n",
       "   'url': 'https://www.nytimes.com/ca/?action=click&region=Footer&pgtype=Homepage'},\n",
       "  {'title': 'International',\n",
       "   'url': 'https://www.nytimes.com/international/?action=click&region=Footer&pgtype=Homepage'},\n",
       "  {'title': 'Help', 'url': 'https://help.nytimes.com/hc/en-us'},\n",
       "  {'title': 'Subscriptions',\n",
       "   'url': 'https://www.nytimes.com/subscription?campaignId=37WXW'}],\n",
       " 'out_of_scope_urls': ['https://www.facebook.com/dialog/feed?app_id=9869919170&link=https%3A%2F%2Fwww.nytimes.com%2Fvideo%2Fus%2Fpolitics%2F100000007647327%2Fnew-jersey-indoor-dining-capacity-fifty-percent.html%3Fsmid%3Dfb-share&name=New%20Jersey%20Increases%20Indoor%20Capacity%20Limits%20to%2050%20Percent&redirect_uri=https%3A%2F%2Fwww.facebook.com%2F',\n",
       "  'https://api.whatsapp.com/send?text=New%20Jersey%20Increases%20Indoor%20Capacity%20Limits%20to%2050%20Percent%20https%3A%2F%2Fwww.nytimes.com%2Fvideo%2Fus%2Fpolitics%2F100000007647327%2Fnew-jersey-indoor-dining-capacity-fifty-percent.html%3Fsmid%3Dwa-share',\n",
       "  'mailto:?subject=NYTimes.com%3A%20New%20Jersey%20Increases%20Indoor%20Capacity%20Limits%20to%2050%20Percent&body=From%20The%20New%20York%20Times%3A%0A%0ANew%20Jersey%20Increases%20Indoor%20Capacity%20Limits%20to%2050%20Percent%0A%0AOn%20Wednesday%2C%20Gov.%20Philip%20D.%20Murphy%20of%20New%20Jersey%20announced%20that%20indoor%20dining%2C%20casinos%2C%20salons%20and%20gyms%20could%20open%20at%20half%20capacity%20starting%20March%2019.%0A%0Ahttps%3A%2F%2Fwww.nytimes.com%2Fvideo%2Fus%2Fpolitics%2F100000007647327%2Fnew-jersey-indoor-dining-capacity-fifty-percent.html%3Fsmid%3Dem-share',\n",
       "  '',\n",
       "  'https://www.youtube.com/user/TheNewYorkTimes',\n",
       "  'https://www.facebook.com/nytvideo/',\n",
       "  'https://www.nytco.com/',\n",
       "  'https://www.nytco.com/careers/',\n",
       "  'https://nytmediakit.com/',\n",
       "  'http://www.tbrandstudio.com/']}"
      ]
     },
     "execution_count": 2,
     "metadata": {},
     "output_type": "execute_result"
    }
   ],
   "source": [
    "with open('./json/0b642bf8-49aa-5f93-896d-e4d1590fa293.json', encoding='utf-8') as json_data:\n",
    "    data = json.load(json_data) \n",
    "\n",
    "data"
   ]
  },
  {
   "cell_type": "markdown",
   "metadata": {},
   "source": [
    "#### We could focus on a different set of sources we are interested in and a different period of times by modifying keys in sources_url & sources_num_of_ref and time_list defined below. The first two dictionaries act as an \"input scope\". The test data below intend to see how many times Jerusalem Post, Haaretz, and Palestine News Network have been referred by the media/journalists in the input scope over the past three years (2018, 2019, 2020)."
   ]
  },
  {
   "cell_type": "code",
   "execution_count": 3,
   "metadata": {},
   "outputs": [],
   "source": [
    "# test source list: can be expanded based on the input scope file\n",
    "# 'Youtube' and 'Facebook' is included here for testing\n",
    "\n",
    "sources_url = {\n",
    "    'Youtube': 'youtube.com',\n",
    "    'Facebook': 'facebook.com',\n",
    "    'Jerusalem Post': 'jpost.com',\n",
    "    'Haaretz': 'haaretz.com',\n",
    "    'Palestine News Network': 'english.pnn.ps'\n",
    "    }\n",
    "\n",
    "sources_num_of_ref = {\n",
    "    'Youtube': {},\n",
    "    'Facebook': {},\n",
    "    'Jerusalem Post': {},\n",
    "    'Haaretz': {},\n",
    "    'Palestine News Network': {}\n",
    "    }\n",
    "    \n",
    "time_list = [str(i) for i in list(range(2018, 2021))]"
   ]
  },
  {
   "cell_type": "code",
   "execution_count": 4,
   "metadata": {},
   "outputs": [],
   "source": [
    "def read_json_file(filename, sources_url, sources_num_of_ref, time_interval):\n",
    "    '''\n",
    "    Read from a .json file which represents an webpage (usually an article)\n",
    "    and store the number of sources that are hyperlinked\n",
    "    by updating sources_num_of_ref (dictionary)\n",
    "    \n",
    "    Parameters\n",
    "    --------\n",
    "    filename: string\n",
    "              name of a .json file to read from\n",
    "    sources_url: dict\n",
    "                 (Name: URL)\n",
    "    sources_num_of_ref: dict\n",
    "                        Name: dict of (Time: Number of references)\n",
    "    time_interval: string\n",
    "                   'month' or 'year'\n",
    "                   \n",
    "    Return\n",
    "    --------\n",
    "    sources_num_of_ref: dict\n",
    "    '''\n",
    "    \n",
    "    with open(filename, encoding='utf-8') as json_data:\n",
    "        data = json.load(json_data) \n",
    "        \n",
    "        # 1. ths sample data I received do not have 'date' variable filled;\n",
    "        # the following code is based on the assumption that 'date' is in the format of 'yyyy-mm-dd'\n",
    "        # 2. since we only crawl one \"referring\" domain,\n",
    "        # all external links will be considered \"out of scope urls\"\n",
    "        if 'out_of_scope_urls' in data and len(data['date']) is not 0:\n",
    "            for url in data['out_of_scope_urls']:\n",
    "                for key, value in sources_url.items():\n",
    "                    if value in url:\n",
    "                        if time_interval == \"year\":\n",
    "                            if data['date'][:4] in sources_num_of_ref[key]:\n",
    "                                sources_num_of_ref[key][data['date']] += 1\n",
    "                            else:\n",
    "                                sources_num_of_ref[key][data['date']] = 1\n",
    "                        if time_interval == \"month\":\n",
    "                            if data['date'][:7] in sources_num_of_ref[key]:\n",
    "                                sources_num_of_ref[key][data['date']] += 1\n",
    "                            else:\n",
    "                                sources_num_of_ref[key][data['date']] = 1"
   ]
  },
  {
   "cell_type": "code",
   "execution_count": 5,
   "metadata": {},
   "outputs": [],
   "source": [
    "def read_json_files(path_to_folder, sources_url, sources_num_of_ref, time_interval):\n",
    "    '''\n",
    "    read from .json files in the designated folder\n",
    "    \n",
    "    Parameters\n",
    "    --------\n",
    "    path_to_folder: string\n",
    "    sources_url: dict\n",
    "                 (Name: URL)\n",
    "    sources_num_of_ref: dict\n",
    "                        Name: dict of (Time: Number of references)\n",
    "    time_interval: string\n",
    "                   'month' or 'year'\n",
    "    '''\n",
    "    for filename in os.listdir(path_to_folder):\n",
    "        read_json_file(path_to_folder + '//' + filename, sources_url, sources_num_of_ref, time_interval)"
   ]
  },
  {
   "cell_type": "code",
   "execution_count": 6,
   "metadata": {},
   "outputs": [],
   "source": [
    "def convert_dict_to_pd_for_stacked_area_chart(sources_num_of_ref):\n",
    "    '''\n",
    "    Convert the dictionary format output date into a pandas dataframe\n",
    "    for easier navigation\n",
    "    \n",
    "    Parameters\n",
    "    --------\n",
    "    sources_num_of_ref: dict\n",
    "                        Name: dict of (Time: Number of references)\n",
    "                   \n",
    "    Return\n",
    "    --------\n",
    "    a pandas dataframe with time points (e.g., 2018, 2019, 2020) as indices and\n",
    "    area names (e.g., 'Palestine Chronicle', 'Times of Israel', 'Jerusalem Post')\n",
    "    as column labels\n",
    "    '''\n",
    "    \n",
    "    data_all_area_list = []\n",
    "    for source, record in sources_num_of_ref.items():\n",
    "        data_each_area_list = []\n",
    "        for time in time_list:\n",
    "            if time in record:\n",
    "                data_each_area_list.append(record[time])\n",
    "            else:\n",
    "                data_each_area_list.append(0)\n",
    "        data_all_area_list.append(data_each_area_list)\n",
    "\n",
    "    return pd.DataFrame(list(map(list, zip(*data_all_area_list))), index=time_list,\n",
    "                        columns=list(sources_num_of_ref.keys())) "
   ]
  },
  {
   "cell_type": "code",
   "execution_count": 7,
   "metadata": {},
   "outputs": [],
   "source": [
    "read_json_files('./json', sources_url, sources_num_of_ref, \"year\")"
   ]
  },
  {
   "cell_type": "markdown",
   "metadata": {},
   "source": [
    "#### Since the sample data I currently have do not contain publication dates, I made up a toy imaginary sample, which could potentially be acquired if we input adequate data, below to test the visualization part."
   ]
  },
  {
   "cell_type": "code",
   "execution_count": 8,
   "metadata": {},
   "outputs": [],
   "source": [
    "sources_num_of_ref = {\n",
    "    'Jerusalem Post': {'2018':10, '2019':14, '2020':35},\n",
    "    'Haaretz': {'2018':17, '2019':12, '2020':23},\n",
    "    'Palestine News Network': {'2018':10, '2019':9, '2020':7}\n",
    "          }"
   ]
  },
  {
   "cell_type": "code",
   "execution_count": 9,
   "metadata": {},
   "outputs": [],
   "source": [
    "df = convert_dict_to_pd_for_stacked_area_chart(sources_num_of_ref)"
   ]
  },
  {
   "cell_type": "markdown",
   "metadata": {},
   "source": [
    "#### Below is how the data behind the stacked area chart looks like:"
   ]
  },
  {
   "cell_type": "code",
   "execution_count": 10,
   "metadata": {},
   "outputs": [
    {
     "data": {
      "text/html": [
       "<div>\n",
       "<style scoped>\n",
       "    .dataframe tbody tr th:only-of-type {\n",
       "        vertical-align: middle;\n",
       "    }\n",
       "\n",
       "    .dataframe tbody tr th {\n",
       "        vertical-align: top;\n",
       "    }\n",
       "\n",
       "    .dataframe thead th {\n",
       "        text-align: right;\n",
       "    }\n",
       "</style>\n",
       "<table border=\"1\" class=\"dataframe\">\n",
       "  <thead>\n",
       "    <tr style=\"text-align: right;\">\n",
       "      <th></th>\n",
       "      <th>Jerusalem Post</th>\n",
       "      <th>Haaretz</th>\n",
       "      <th>Palestine News Network</th>\n",
       "    </tr>\n",
       "  </thead>\n",
       "  <tbody>\n",
       "    <tr>\n",
       "      <td>2018</td>\n",
       "      <td>10</td>\n",
       "      <td>17</td>\n",
       "      <td>10</td>\n",
       "    </tr>\n",
       "    <tr>\n",
       "      <td>2019</td>\n",
       "      <td>14</td>\n",
       "      <td>12</td>\n",
       "      <td>9</td>\n",
       "    </tr>\n",
       "    <tr>\n",
       "      <td>2020</td>\n",
       "      <td>35</td>\n",
       "      <td>23</td>\n",
       "      <td>7</td>\n",
       "    </tr>\n",
       "  </tbody>\n",
       "</table>\n",
       "</div>"
      ],
      "text/plain": [
       "      Jerusalem Post  Haaretz  Palestine News Network\n",
       "2018              10       17                      10\n",
       "2019              14       12                       9\n",
       "2020              35       23                       7"
      ]
     },
     "execution_count": 10,
     "metadata": {},
     "output_type": "execute_result"
    }
   ],
   "source": [
    "df"
   ]
  },
  {
   "cell_type": "code",
   "execution_count": 13,
   "metadata": {},
   "outputs": [
    {
     "data": {
      "image/png": "[encoded data removed]",
      "text/plain": [
       "<Figure size 432x288 with 1 Axes>"
      ]
     },
     "metadata": {
      "needs_background": "light"
     },
     "output_type": "display_data"
    }
   ],
   "source": [
    "plt.stackplot(time_list,\n",
    "              df.transpose(),\n",
    "              labels=list(df.columns),\n",
    "              alpha=0.8)\n",
    "\n",
    "plt.legend(loc=2, fontsize='large')\n",
    "plt.title(\"Changes in Sources Cited by NYT\")\n",
    "plt.ylabel(\"Number of References\")\n",
    "plt.xlabel(\"Year\")\n",
    "plt.show()"
   ]
  },
  {
   "cell_type": "markdown",
   "metadata": {},
   "source": [
    "#### The data file exported as .csv file below can be used to produce a stacked area graph or graphs of similar types with other libraries/languages/tools."
   ]
  },
  {
   "cell_type": "code",
   "execution_count": 12,
   "metadata": {},
   "outputs": [],
   "source": [
    "df.to_csv('data_for_stacked_area_chart.csv')  "
   ]
  }
 ],
 "metadata": {
  "kernelspec": {
   "display_name": "Python 3",
   "language": "python",
   "name": "python3"
  },
  "language_info": {
   "codemirror_mode": {
    "name": "ipython",
    "version": 3
   },
   "file_extension": ".py",
   "mimetype": "text/x-python",
   "name": "python",
   "nbconvert_exporter": "python",
   "pygments_lexer": "ipython3",
   "version": "3.7.4"
  }
 },
 "nbformat": 4,
 "nbformat_minor": 2
}

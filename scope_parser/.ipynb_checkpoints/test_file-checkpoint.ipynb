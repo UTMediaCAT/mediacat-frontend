{
 "cells": [
  {
   "cell_type": "code",
   "execution_count": 1,
   "metadata": {
    "ExecuteTime": {
     "end_time": "2020-10-05T19:36:14.542877Z",
     "start_time": "2020-10-05T19:36:14.002534Z"
    }
   },
   "outputs": [],
   "source": [
    "import pandas as pd\n"
   ]
  },
  {
   "cell_type": "code",
   "execution_count": 2,
   "metadata": {
    "ExecuteTime": {
     "end_time": "2020-10-05T19:36:14.549976Z",
     "start_time": "2020-10-05T19:36:14.545490Z"
    }
   },
   "outputs": [],
   "source": [
    "# check the input file should be csv file\n",
    "def is_csv(filename):\n",
    "    try:\n",
    "        # try to read csv file\n",
    "        pd.read_csv(filename)\n",
    "        return True\n",
    "    except(Exception):\n",
    "        print(\"Input file is not csv or doesn't exist such csv\")\n",
    "        "
   ]
  },
  {
   "cell_type": "code",
   "execution_count": 3,
   "metadata": {
    "ExecuteTime": {
     "end_time": "2020-10-05T19:36:14.568034Z",
     "start_time": "2020-10-05T19:36:14.553142Z"
    }
   },
   "outputs": [
    {
     "data": {
      "text/plain": [
       "True"
      ]
     },
     "execution_count": 3,
     "metadata": {},
     "output_type": "execute_result"
    }
   ],
   "source": [
    "is_csv(\"test_demo.csv\")"
   ]
  },
  {
   "cell_type": "code",
   "execution_count": 13,
   "metadata": {
    "ExecuteTime": {
     "end_time": "2020-10-05T19:36:52.856792Z",
     "start_time": "2020-10-05T19:36:52.852619Z"
    },
    "scrolled": true
   },
   "outputs": [
    {
     "name": "stdout",
     "output_type": "stream",
     "text": [
      "Input file is not csv or doesn't exist such csv\n"
     ]
    }
   ],
   "source": [
    "is_csv(\"not_exissv\")"
   ]
  },
  {
   "cell_type": "code",
   "execution_count": 5,
   "metadata": {
    "ExecuteTime": {
     "end_time": "2020-10-05T19:36:14.580011Z",
     "start_time": "2020-10-05T19:36:14.577685Z"
    }
   },
   "outputs": [],
   "source": [
    "# is it unicode? Yes, In python3, all string are unicode by default\n"
   ]
  },
  {
   "cell_type": "code",
   "execution_count": 6,
   "metadata": {
    "ExecuteTime": {
     "end_time": "2020-10-05T19:36:14.601418Z",
     "start_time": "2020-10-05T19:36:14.582105Z"
    },
    "scrolled": false
   },
   "outputs": [
    {
     "data": {
      "text/html": [
       "<div>\n",
       "<style scoped>\n",
       "    .dataframe tbody tr th:only-of-type {\n",
       "        vertical-align: middle;\n",
       "    }\n",
       "\n",
       "    .dataframe tbody tr th {\n",
       "        vertical-align: top;\n",
       "    }\n",
       "\n",
       "    .dataframe thead th {\n",
       "        text-align: right;\n",
       "    }\n",
       "</style>\n",
       "<table border=\"1\" class=\"dataframe\">\n",
       "  <thead>\n",
       "    <tr style=\"text-align: right;\">\n",
       "      <th></th>\n",
       "      <th>Source</th>\n",
       "      <th>RSS feed URLs (where available)</th>\n",
       "      <th>Type</th>\n",
       "      <th>Tags</th>\n",
       "      <th>Associated Twitter Handle</th>\n",
       "      <th>Associated Publisher</th>\n",
       "      <th>Name</th>\n",
       "      <th>Text aliases</th>\n",
       "    </tr>\n",
       "  </thead>\n",
       "  <tbody>\n",
       "    <tr>\n",
       "      <td>4</td>\n",
       "      <td>http://debka.co.il/</td>\n",
       "      <td>NaN</td>\n",
       "      <td>News Source</td>\n",
       "      <td>Israeli|Hebrew|Hawkish|Security</td>\n",
       "      <td>debka_hebrew</td>\n",
       "      <td>Debka File</td>\n",
       "      <td>Debka File - Hebrew</td>\n",
       "      <td>Debka File</td>\n",
       "    </tr>\n",
       "  </tbody>\n",
       "</table>\n",
       "</div>"
      ],
      "text/plain": [
       "                Source  RSS feed URLs (where available)         Type  \\\n",
       "4  http://debka.co.il/                              NaN  News Source   \n",
       "\n",
       "                              Tags Associated Twitter Handle  \\\n",
       "4  Israeli|Hebrew|Hawkish|Security              debka_hebrew   \n",
       "\n",
       "  Associated Publisher                 Name Text aliases  \n",
       "4           Debka File  Debka File - Hebrew   Debka File  "
      ]
     },
     "execution_count": 6,
     "metadata": {},
     "output_type": "execute_result"
    }
   ],
   "source": [
    "# you can replace \"test_error_demo.csv\" with any file you want to test\n",
    "df = pd.read_csv(\"test_error_demo.csv\")\n",
    "\n",
    "# find every rows that all Associated Twitter Handle is incorrect\n",
    "df.loc[~(df[\"Associated Twitter Handle\"].isnull() | df[\"Associated Twitter Handle\"].str.startswith('@'))]  "
   ]
  },
  {
   "cell_type": "code",
   "execution_count": 7,
   "metadata": {
    "ExecuteTime": {
     "end_time": "2020-10-05T19:36:14.610439Z",
     "start_time": "2020-10-05T19:36:14.604226Z"
    }
   },
   "outputs": [
    {
     "name": "stdout",
     "output_type": "stream",
     "text": [
      "Int64Index([4], dtype='int64')\n"
     ]
    }
   ],
   "source": [
    "# find every rows that all Associated Twitter Handle is incorrect and print the row number\n",
    "def check_ATH():\n",
    "    print(df.loc[~(df[\"Associated Twitter Handle\"].isnull() | df[\"Associated Twitter Handle\"].str.startswith('@'))].index)\n",
    "\n",
    "check_ATH()\n",
    "    "
   ]
  },
  {
   "cell_type": "code",
   "execution_count": 8,
   "metadata": {
    "ExecuteTime": {
     "end_time": "2020-10-05T19:36:14.629579Z",
     "start_time": "2020-10-05T19:36:14.615317Z"
    },
    "scrolled": true
   },
   "outputs": [
    {
     "data": {
      "text/html": [
       "<div>\n",
       "<style scoped>\n",
       "    .dataframe tbody tr th:only-of-type {\n",
       "        vertical-align: middle;\n",
       "    }\n",
       "\n",
       "    .dataframe tbody tr th {\n",
       "        vertical-align: top;\n",
       "    }\n",
       "\n",
       "    .dataframe thead th {\n",
       "        text-align: right;\n",
       "    }\n",
       "</style>\n",
       "<table border=\"1\" class=\"dataframe\">\n",
       "  <thead>\n",
       "    <tr style=\"text-align: right;\">\n",
       "      <th></th>\n",
       "      <th>Source</th>\n",
       "      <th>RSS feed URLs (where available)</th>\n",
       "      <th>Type</th>\n",
       "      <th>Tags</th>\n",
       "      <th>Associated Twitter Handle</th>\n",
       "      <th>Associated Publisher</th>\n",
       "      <th>Name</th>\n",
       "      <th>Text aliases</th>\n",
       "    </tr>\n",
       "  </thead>\n",
       "  <tbody>\n",
       "    <tr>\n",
       "      <td>5</td>\n",
       "      <td>@Ali_Mustafa</td>\n",
       "      <td>NaN</td>\n",
       "      <td>Tter Handle</td>\n",
       "      <td>Twitter Journalists</td>\n",
       "      <td>NaN</td>\n",
       "      <td>NaN</td>\n",
       "      <td>Ali Mustafa</td>\n",
       "      <td>Ali Mustafa</td>\n",
       "    </tr>\n",
       "    <tr>\n",
       "      <td>6</td>\n",
       "      <td>http://jpost.com/</td>\n",
       "      <td>NaN</td>\n",
       "      <td>New Source</td>\n",
       "      <td>Israeli|English|Centrist|Current-Affairs</td>\n",
       "      <td>@Jerusalem_Post|@JPostOpinion</td>\n",
       "      <td>Jerusalem Post</td>\n",
       "      <td>Jerusalem Post</td>\n",
       "      <td>Jerusalem Post|Jpost</td>\n",
       "    </tr>\n",
       "  </tbody>\n",
       "</table>\n",
       "</div>"
      ],
      "text/plain": [
       "              Source  RSS feed URLs (where available)         Type  \\\n",
       "5       @Ali_Mustafa                              NaN  Tter Handle   \n",
       "6  http://jpost.com/                              NaN   New Source   \n",
       "\n",
       "                                       Tags      Associated Twitter Handle  \\\n",
       "5                       Twitter Journalists                            NaN   \n",
       "6  Israeli|English|Centrist|Current-Affairs  @Jerusalem_Post|@JPostOpinion   \n",
       "\n",
       "  Associated Publisher            Name          Text aliases  \n",
       "5                  NaN     Ali Mustafa           Ali Mustafa  \n",
       "6       Jerusalem Post  Jerusalem Post  Jerusalem Post|Jpost  "
      ]
     },
     "execution_count": 8,
     "metadata": {},
     "output_type": "execute_result"
    }
   ],
   "source": [
    "# find every rows that Type is not \"News Source\" or \"Twitter Handle\"\n",
    "df.loc[~((df[\"Type\"] == \"Twitter Handle\") | (df[\"Type\"] == \"News Source\"))]"
   ]
  },
  {
   "cell_type": "code",
   "execution_count": 9,
   "metadata": {
    "ExecuteTime": {
     "end_time": "2020-10-05T19:36:14.640291Z",
     "start_time": "2020-10-05T19:36:14.633748Z"
    }
   },
   "outputs": [
    {
     "name": "stdout",
     "output_type": "stream",
     "text": [
      "Int64Index([5, 6], dtype='int64')\n"
     ]
    }
   ],
   "source": [
    "# find every rows that Type is not \"News Source\" or \"Twitter Handle\" and print its row number\n",
    "def check_Type():\n",
    "    print(df.loc[~((df[\"Type\"] == \"Twitter Handle\") | (df[\"Type\"] == \"News Source\"))].index)\n",
    "\n",
    "check_Type()\n",
    "    "
   ]
  },
  {
   "cell_type": "code",
   "execution_count": 10,
   "metadata": {
    "ExecuteTime": {
     "end_time": "2020-10-05T19:36:14.656947Z",
     "start_time": "2020-10-05T19:36:14.643366Z"
    },
    "scrolled": true
   },
   "outputs": [
    {
     "data": {
      "text/html": [
       "<div>\n",
       "<style scoped>\n",
       "    .dataframe tbody tr th:only-of-type {\n",
       "        vertical-align: middle;\n",
       "    }\n",
       "\n",
       "    .dataframe tbody tr th {\n",
       "        vertical-align: top;\n",
       "    }\n",
       "\n",
       "    .dataframe thead th {\n",
       "        text-align: right;\n",
       "    }\n",
       "</style>\n",
       "<table border=\"1\" class=\"dataframe\">\n",
       "  <thead>\n",
       "    <tr style=\"text-align: right;\">\n",
       "      <th></th>\n",
       "      <th>Source</th>\n",
       "      <th>RSS feed URLs (where available)</th>\n",
       "      <th>Type</th>\n",
       "      <th>Tags</th>\n",
       "      <th>Associated Twitter Handle</th>\n",
       "      <th>Associated Publisher</th>\n",
       "      <th>Name</th>\n",
       "      <th>Text aliases</th>\n",
       "    </tr>\n",
       "  </thead>\n",
       "  <tbody>\n",
       "    <tr>\n",
       "      <td>1</td>\n",
       "      <td>hltp://calcalist.co.il/</td>\n",
       "      <td>NaN</td>\n",
       "      <td>News Source</td>\n",
       "      <td>Israeli|Hebrew|Financial</td>\n",
       "      <td>@calcalist</td>\n",
       "      <td>Yediot</td>\n",
       "      <td>Calcalist</td>\n",
       "      <td>Calcalist</td>\n",
       "    </tr>\n",
       "    <tr>\n",
       "      <td>3</td>\n",
       "      <td>Elizrael</td>\n",
       "      <td>NaN</td>\n",
       "      <td>Twitter Handle</td>\n",
       "      <td>Twitter Journalists</td>\n",
       "      <td>NaN</td>\n",
       "      <td>NaN</td>\n",
       "      <td>Elizabeth Tsurkov</td>\n",
       "      <td>Elizabeth Tsurkov</td>\n",
       "    </tr>\n",
       "  </tbody>\n",
       "</table>\n",
       "</div>"
      ],
      "text/plain": [
       "                    Source  RSS feed URLs (where available)            Type  \\\n",
       "1  hltp://calcalist.co.il/                              NaN     News Source   \n",
       "3                 Elizrael                              NaN  Twitter Handle   \n",
       "\n",
       "                       Tags Associated Twitter Handle Associated Publisher  \\\n",
       "1  Israeli|Hebrew|Financial                @calcalist               Yediot   \n",
       "3       Twitter Journalists                       NaN                  NaN   \n",
       "\n",
       "                 Name        Text aliases  \n",
       "1           Calcalist           Calcalist  \n",
       "3  Elizabeth Tsurkov   Elizabeth Tsurkov   "
      ]
     },
     "execution_count": 10,
     "metadata": {},
     "output_type": "execute_result"
    }
   ],
   "source": [
    "# find the source is incorrect format\n",
    "df.loc[~((df[\"Source\"].str.startswith('@') | (df[\"Source\"].str.contains(\"http://|https://\"))))]"
   ]
  },
  {
   "cell_type": "code",
   "execution_count": 11,
   "metadata": {
    "ExecuteTime": {
     "end_time": "2020-10-05T19:36:14.666382Z",
     "start_time": "2020-10-05T19:36:14.658906Z"
    }
   },
   "outputs": [
    {
     "name": "stdout",
     "output_type": "stream",
     "text": [
      "Int64Index([1, 3], dtype='int64')\n"
     ]
    }
   ],
   "source": [
    "# find the source is incorrect format and return index\n",
    "def check_Source():\n",
    "    print(df.loc[~((df[\"Source\"].str.startswith('@') | (df[\"Source\"].str.contains(\"http://|https://\"))))].index)\n",
    "\n",
    "check_Source()"
   ]
  },
  {
   "cell_type": "code",
   "execution_count": 12,
   "metadata": {
    "ExecuteTime": {
     "end_time": "2020-10-05T19:36:14.673622Z",
     "start_time": "2020-10-05T19:36:14.668886Z"
    }
   },
   "outputs": [
    {
     "data": {
      "text/plain": [
       "str"
      ]
     },
     "execution_count": 12,
     "metadata": {},
     "output_type": "execute_result"
    }
   ],
   "source": [
    "type(u'תל אביב, ישראל')\n"
   ]
  }
 ],
 "metadata": {
  "kernelspec": {
   "display_name": "Python 3",
   "language": "python",
   "name": "python3"
  },
  "language_info": {
   "codemirror_mode": {
    "name": "ipython",
    "version": 3
   },
   "file_extension": ".py",
   "mimetype": "text/x-python",
   "name": "python",
   "nbconvert_exporter": "python",
   "pygments_lexer": "ipython3",
   "version": "3.7.4"
  },
  "varInspector": {
   "cols": {
    "lenName": 16,
    "lenType": 16,
    "lenVar": 40
   },
   "kernels_config": {
    "python": {
     "delete_cmd_postfix": "",
     "delete_cmd_prefix": "del ",
     "library": "var_list.py",
     "varRefreshCmd": "print(var_dic_list())"
    },
    "r": {
     "delete_cmd_postfix": ") ",
     "delete_cmd_prefix": "rm(",
     "library": "var_list.r",
     "varRefreshCmd": "cat(var_dic_list()) "
    }
   },
   "types_to_exclude": [
    "module",
    "function",
    "builtin_function_or_method",
    "instance",
    "_Feature"
   ],
   "window_display": false
  }
 },
 "nbformat": 4,
 "nbformat_minor": 2
}
